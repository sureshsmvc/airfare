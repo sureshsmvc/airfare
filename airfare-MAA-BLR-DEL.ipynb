{
 "cells": [
  {
   "cell_type": "code",
   "execution_count": 1,
   "metadata": {
    "collapsed": false
   },
   "outputs": [],
   "source": [
    "import numpy as np\n",
    "import os\n",
    "import glob\n",
    "import pandas as pd\n",
    "%matplotlib inline\n",
    "import seaborn as sns\n",
    "import matplotlib.pyplot as plt\n",
    "curr = os.getcwd()\n",
    "paths = [os.path.join(curr,\"data/SIN-MAA\"),os.path.join(curr,\"data/SIN-BLR\"),os.path.join(curr,\"data/SIN-DEL\")]\n",
    "extension = 'csv'\n",
    "all_df = pd.DataFrame()\n",
    "for path in paths:\n",
    "    os.chdir(path)\n",
    "    filenames = [i for i in glob.glob('*.{}'.format(extension))]\n",
    "#     print(filenames)\n",
    "    dfs = pd.concat([pd.read_csv(f, parse_dates=['travel_date'], dayfirst=True) for f in filenames ], ignore_index=True)\n",
    "    all_df = pd.concat([all_df, dfs])\n",
    "os.chdir(curr)\n",
    "# print(all_df.sample(10))"
   ]
  },
  {
   "cell_type": "code",
   "execution_count": 2,
   "metadata": {
    "collapsed": false
   },
   "outputs": [
    {
     "name": "stdout",
     "output_type": "stream",
     "text": [
      "Index(['carrier', 'departure_time', 'stops', 'source', 'destination',\n",
      "       'itinerary_type', 'travel_date', 'days_before_travel', 'price'],\n",
      "      dtype='object')\n",
      "(4564, 9)\n",
      "['IndiGo' 'Scoot' 'Silkair' 'Singapore Airlines' 'Air-India Express'\n",
      " 'Air India' 'Vistara']\n",
      "['SIN']\n",
      "['MAA' 'BLR' 'DEL']\n"
     ]
    }
   ],
   "source": [
    "df = all_df.copy()\n",
    "df = df.drop(df[df.price == 'Price unavailable' ].index)\n",
    "print(df.columns)\n",
    "print(df.shape)\n",
    "print(df.carrier.unique())\n",
    "print(df.source.unique())\n",
    "print(df.destination.unique())"
   ]
  },
  {
   "cell_type": "code",
   "execution_count": 3,
   "metadata": {
    "collapsed": false
   },
   "outputs": [
    {
     "data": {
      "text/plain": [
       "carrier               0\n",
       "departure_time        0\n",
       "stops                 0\n",
       "source                0\n",
       "destination           0\n",
       "itinerary_type        0\n",
       "travel_date           0\n",
       "days_before_travel    0\n",
       "price                 0\n",
       "dtype: int64"
      ]
     },
     "execution_count": 3,
     "metadata": {},
     "output_type": "execute_result"
    }
   ],
   "source": [
    "df.isnull().sum()"
   ]
  },
  {
   "cell_type": "code",
   "execution_count": 4,
   "metadata": {
    "collapsed": false
   },
   "outputs": [
    {
     "data": {
      "text/html": [
       "<div>\n",
       "<style scoped>\n",
       "    .dataframe tbody tr th:only-of-type {\n",
       "        vertical-align: middle;\n",
       "    }\n",
       "\n",
       "    .dataframe tbody tr th {\n",
       "        vertical-align: top;\n",
       "    }\n",
       "\n",
       "    .dataframe thead th {\n",
       "        text-align: right;\n",
       "    }\n",
       "</style>\n",
       "<table border=\"1\" class=\"dataframe\">\n",
       "  <thead>\n",
       "    <tr style=\"text-align: right;\">\n",
       "      <th></th>\n",
       "      <th>carrier</th>\n",
       "      <th>departure_time</th>\n",
       "      <th>stops</th>\n",
       "      <th>source</th>\n",
       "      <th>destination</th>\n",
       "      <th>itinerary_type</th>\n",
       "      <th>travel_date</th>\n",
       "      <th>days_before_travel</th>\n",
       "      <th>price</th>\n",
       "    </tr>\n",
       "  </thead>\n",
       "  <tbody>\n",
       "  </tbody>\n",
       "</table>\n",
       "</div>"
      ],
      "text/plain": [
       "Empty DataFrame\n",
       "Columns: [carrier, departure_time, stops, source, destination, itinerary_type, travel_date, days_before_travel, price]\n",
       "Index: []"
      ]
     },
     "execution_count": 4,
     "metadata": {},
     "output_type": "execute_result"
    }
   ],
   "source": [
    "df_duplicate = df[df.duplicated()]\n",
    "df_duplicate"
   ]
  },
  {
   "cell_type": "code",
   "execution_count": 5,
   "metadata": {
    "collapsed": false
   },
   "outputs": [],
   "source": [
    "def clean_currency(x):\n",
    "    if isinstance(x, str):\n",
    "        return(x.replace(',', ''))\n",
    "    return(x)\n",
    "df['price'] = df['price'].apply(clean_currency).astype('float')"
   ]
  },
  {
   "cell_type": "code",
   "execution_count": 6,
   "metadata": {
    "collapsed": false
   },
   "outputs": [
    {
     "data": {
      "text/html": [
       "<div>\n",
       "<style scoped>\n",
       "    .dataframe tbody tr th:only-of-type {\n",
       "        vertical-align: middle;\n",
       "    }\n",
       "\n",
       "    .dataframe tbody tr th {\n",
       "        vertical-align: top;\n",
       "    }\n",
       "\n",
       "    .dataframe thead th {\n",
       "        text-align: right;\n",
       "    }\n",
       "</style>\n",
       "<table border=\"1\" class=\"dataframe\">\n",
       "  <thead>\n",
       "    <tr style=\"text-align: right;\">\n",
       "      <th></th>\n",
       "      <th>carrier</th>\n",
       "      <th>departure_time</th>\n",
       "      <th>stops</th>\n",
       "      <th>source</th>\n",
       "      <th>destination</th>\n",
       "      <th>itinerary_type</th>\n",
       "      <th>travel_date</th>\n",
       "      <th>days_before_travel</th>\n",
       "      <th>price</th>\n",
       "    </tr>\n",
       "  </thead>\n",
       "  <tbody>\n",
       "    <tr>\n",
       "      <th>461</th>\n",
       "      <td>Air-India Express</td>\n",
       "      <td>0:10</td>\n",
       "      <td>Non-stop</td>\n",
       "      <td>SIN</td>\n",
       "      <td>MAA</td>\n",
       "      <td>one-way</td>\n",
       "      <td>2020-06-21</td>\n",
       "      <td>68</td>\n",
       "      <td>168.0</td>\n",
       "    </tr>\n",
       "    <tr>\n",
       "      <th>589</th>\n",
       "      <td>Singapore Airlines</td>\n",
       "      <td>16:50</td>\n",
       "      <td>Non-stop</td>\n",
       "      <td>SIN</td>\n",
       "      <td>DEL</td>\n",
       "      <td>one-way</td>\n",
       "      <td>2020-06-07</td>\n",
       "      <td>52</td>\n",
       "      <td>582.0</td>\n",
       "    </tr>\n",
       "    <tr>\n",
       "      <th>1582</th>\n",
       "      <td>Singapore Airlines</td>\n",
       "      <td>20:25</td>\n",
       "      <td>Non-stop</td>\n",
       "      <td>SIN</td>\n",
       "      <td>MAA</td>\n",
       "      <td>one-way</td>\n",
       "      <td>2020-07-05</td>\n",
       "      <td>80</td>\n",
       "      <td>330.0</td>\n",
       "    </tr>\n",
       "    <tr>\n",
       "      <th>312</th>\n",
       "      <td>Singapore Airlines</td>\n",
       "      <td>22:20</td>\n",
       "      <td>Non-stop</td>\n",
       "      <td>SIN</td>\n",
       "      <td>BLR</td>\n",
       "      <td>one-way</td>\n",
       "      <td>2020-07-25</td>\n",
       "      <td>102</td>\n",
       "      <td>290.0</td>\n",
       "    </tr>\n",
       "    <tr>\n",
       "      <th>180</th>\n",
       "      <td>IndiGo</td>\n",
       "      <td>2:45</td>\n",
       "      <td>Non-stop</td>\n",
       "      <td>SIN</td>\n",
       "      <td>BLR</td>\n",
       "      <td>one-way</td>\n",
       "      <td>2020-06-19</td>\n",
       "      <td>66</td>\n",
       "      <td>249.0</td>\n",
       "    </tr>\n",
       "  </tbody>\n",
       "</table>\n",
       "</div>"
      ],
      "text/plain": [
       "                 carrier departure_time     stops source destination  \\\n",
       "461    Air-India Express           0:10  Non-stop    SIN         MAA   \n",
       "589   Singapore Airlines          16:50  Non-stop    SIN         DEL   \n",
       "1582  Singapore Airlines          20:25  Non-stop    SIN         MAA   \n",
       "312   Singapore Airlines          22:20  Non-stop    SIN         BLR   \n",
       "180               IndiGo           2:45  Non-stop    SIN         BLR   \n",
       "\n",
       "     itinerary_type travel_date  days_before_travel  price  \n",
       "461         one-way  2020-06-21                  68  168.0  \n",
       "589         one-way  2020-06-07                  52  582.0  \n",
       "1582        one-way  2020-07-05                  80  330.0  \n",
       "312         one-way  2020-07-25                 102  290.0  \n",
       "180         one-way  2020-06-19                  66  249.0  "
      ]
     },
     "execution_count": 6,
     "metadata": {},
     "output_type": "execute_result"
    }
   ],
   "source": [
    "df.sample(5)"
   ]
  },
  {
   "cell_type": "code",
   "execution_count": 7,
   "metadata": {
    "collapsed": false
   },
   "outputs": [
    {
     "data": {
      "image/png": "[encoded data removed]",
      "text/plain": [
       "<Figure size 1440x576 with 1 Axes>"
      ]
     },
     "metadata": {
      "needs_background": "light"
     },
     "output_type": "display_data"
    }
   ],
   "source": [
    "plt.figure(figsize=(20, 8))\n",
    "airline_count = df['carrier'].value_counts()\n",
    "sns.set(style=\"darkgrid\")\n",
    "sns.barplot(airline_count.index, airline_count.values, alpha=0.9)\n",
    "plt.title('Frequency Distribution of Airline')\n",
    "plt.ylabel('Number of Occurrences', fontsize=12)\n",
    "plt.xlabel('Airline', fontsize=12)\n",
    "plt.show()"
   ]
  },
  {
   "cell_type": "code",
   "execution_count": 8,
   "metadata": {
    "collapsed": false
   },
   "outputs": [
    {
     "name": "stdout",
     "output_type": "stream",
     "text": [
      "<class 'pandas.core.frame.DataFrame'>\n",
      "Int64Index: 4564 entries, 0 to 1651\n",
      "Data columns (total 9 columns):\n",
      " #   Column              Non-Null Count  Dtype         \n",
      "---  ------              --------------  -----         \n",
      " 0   carrier             4564 non-null   object        \n",
      " 1   departure_time      4564 non-null   object        \n",
      " 2   stops               4564 non-null   object        \n",
      " 3   source              4564 non-null   object        \n",
      " 4   destination         4564 non-null   object        \n",
      " 5   itinerary_type      4564 non-null   object        \n",
      " 6   travel_date         4564 non-null   datetime64[ns]\n",
      " 7   days_before_travel  4564 non-null   int64         \n",
      " 8   price               4564 non-null   float64       \n",
      "dtypes: datetime64[ns](1), float64(1), int64(1), object(6)\n",
      "memory usage: 356.6+ KB\n"
     ]
    }
   ],
   "source": [
    "df.info()"
   ]
  },
  {
   "cell_type": "code",
   "execution_count": 9,
   "metadata": {
    "collapsed": false
   },
   "outputs": [
    {
     "data": {
      "image/png": "[encoded data removed]",
      "text/plain": [
       "<Figure size 560.6x432 with 1 Axes>"
      ]
     },
     "metadata": {},
     "output_type": "display_data"
    }
   ],
   "source": [
    "import datetime\n",
    "date = datetime.datetime.strptime(\"2020-05-01\", '%Y-%m-%d')\n",
    "destination = 'MAA'\n",
    "filter_df = df[(df['travel_date'] == date) & (df['destination'] == destination)]\n",
    "sns.set(style=\"darkgrid\")\n",
    "s = sns.catplot(x=\"days_before_travel\", y=\"price\", hue=\"carrier\", data=filter_df,\n",
    "                height=6, kind=\"bar\", palette=\"muted\")\n",
    "plt.title('Price For Date {}'.format(date.date()))\n",
    "plt.ylabel('Price', fontsize=12)\n",
    "plt.xlabel('Days before Travel Date {}'.format(date.date()), fontsize=12)\n",
    "plt.show()"
   ]
  },
  {
   "cell_type": "code",
   "execution_count": 10,
   "metadata": {
    "collapsed": false
   },
   "outputs": [
    {
     "data": {
      "text/html": [
       "<div>\n",
       "<style scoped>\n",
       "    .dataframe tbody tr th:only-of-type {\n",
       "        vertical-align: middle;\n",
       "    }\n",
       "\n",
       "    .dataframe tbody tr th {\n",
       "        vertical-align: top;\n",
       "    }\n",
       "\n",
       "    .dataframe thead th {\n",
       "        text-align: right;\n",
       "    }\n",
       "</style>\n",
       "<table border=\"1\" class=\"dataframe\">\n",
       "  <thead>\n",
       "    <tr style=\"text-align: right;\">\n",
       "      <th></th>\n",
       "      <th>carrier</th>\n",
       "      <th>departure_time</th>\n",
       "      <th>stops</th>\n",
       "      <th>source</th>\n",
       "      <th>destination</th>\n",
       "      <th>itinerary_type</th>\n",
       "      <th>travel_date</th>\n",
       "      <th>days_before_travel</th>\n",
       "      <th>price</th>\n",
       "    </tr>\n",
       "  </thead>\n",
       "  <tbody>\n",
       "    <tr>\n",
       "      <th>2711</th>\n",
       "      <td>Singapore Airlines</td>\n",
       "      <td>20:25</td>\n",
       "      <td>Non-stop</td>\n",
       "      <td>SIN</td>\n",
       "      <td>MAA</td>\n",
       "      <td>one-way</td>\n",
       "      <td>2020-05-01</td>\n",
       "      <td>12</td>\n",
       "      <td>972.0</td>\n",
       "    </tr>\n",
       "    <tr>\n",
       "      <th>2214</th>\n",
       "      <td>Singapore Airlines</td>\n",
       "      <td>20:25</td>\n",
       "      <td>Non-stop</td>\n",
       "      <td>SIN</td>\n",
       "      <td>MAA</td>\n",
       "      <td>one-way</td>\n",
       "      <td>2020-05-01</td>\n",
       "      <td>13</td>\n",
       "      <td>972.0</td>\n",
       "    </tr>\n",
       "    <tr>\n",
       "      <th>1707</th>\n",
       "      <td>Singapore Airlines</td>\n",
       "      <td>20:25</td>\n",
       "      <td>Non-stop</td>\n",
       "      <td>SIN</td>\n",
       "      <td>MAA</td>\n",
       "      <td>one-way</td>\n",
       "      <td>2020-05-01</td>\n",
       "      <td>14</td>\n",
       "      <td>972.0</td>\n",
       "    </tr>\n",
       "    <tr>\n",
       "      <th>1193</th>\n",
       "      <td>Singapore Airlines</td>\n",
       "      <td>20:25</td>\n",
       "      <td>Non-stop</td>\n",
       "      <td>SIN</td>\n",
       "      <td>MAA</td>\n",
       "      <td>one-way</td>\n",
       "      <td>2020-05-01</td>\n",
       "      <td>15</td>\n",
       "      <td>972.0</td>\n",
       "    </tr>\n",
       "    <tr>\n",
       "      <th>679</th>\n",
       "      <td>Singapore Airlines</td>\n",
       "      <td>20:25</td>\n",
       "      <td>Non-stop</td>\n",
       "      <td>SIN</td>\n",
       "      <td>MAA</td>\n",
       "      <td>one-way</td>\n",
       "      <td>2020-05-01</td>\n",
       "      <td>16</td>\n",
       "      <td>972.0</td>\n",
       "    </tr>\n",
       "    <tr>\n",
       "      <th>163</th>\n",
       "      <td>Singapore Airlines</td>\n",
       "      <td>20:25</td>\n",
       "      <td>Non-stop</td>\n",
       "      <td>SIN</td>\n",
       "      <td>MAA</td>\n",
       "      <td>one-way</td>\n",
       "      <td>2020-05-01</td>\n",
       "      <td>17</td>\n",
       "      <td>970.0</td>\n",
       "    </tr>\n",
       "    <tr>\n",
       "      <th>3</th>\n",
       "      <td>Singapore Airlines</td>\n",
       "      <td>20:25</td>\n",
       "      <td>Non-stop</td>\n",
       "      <td>SIN</td>\n",
       "      <td>MAA</td>\n",
       "      <td>one-way</td>\n",
       "      <td>2020-05-01</td>\n",
       "      <td>18</td>\n",
       "      <td>981.0</td>\n",
       "    </tr>\n",
       "  </tbody>\n",
       "</table>\n",
       "</div>"
      ],
      "text/plain": [
       "                 carrier departure_time     stops source destination  \\\n",
       "2711  Singapore Airlines          20:25  Non-stop    SIN         MAA   \n",
       "2214  Singapore Airlines          20:25  Non-stop    SIN         MAA   \n",
       "1707  Singapore Airlines          20:25  Non-stop    SIN         MAA   \n",
       "1193  Singapore Airlines          20:25  Non-stop    SIN         MAA   \n",
       "679   Singapore Airlines          20:25  Non-stop    SIN         MAA   \n",
       "163   Singapore Airlines          20:25  Non-stop    SIN         MAA   \n",
       "3     Singapore Airlines          20:25  Non-stop    SIN         MAA   \n",
       "\n",
       "     itinerary_type travel_date  days_before_travel  price  \n",
       "2711        one-way  2020-05-01                  12  972.0  \n",
       "2214        one-way  2020-05-01                  13  972.0  \n",
       "1707        one-way  2020-05-01                  14  972.0  \n",
       "1193        one-way  2020-05-01                  15  972.0  \n",
       "679         one-way  2020-05-01                  16  972.0  \n",
       "163         one-way  2020-05-01                  17  970.0  \n",
       "3           one-way  2020-05-01                  18  981.0  "
      ]
     },
     "execution_count": 10,
     "metadata": {},
     "output_type": "execute_result"
    }
   ],
   "source": [
    "filter_df_SQ = filter_df.copy()\n",
    "filter_df_SQ = filter_df_SQ[(filter_df_SQ['carrier'] == 'Singapore Airlines')]\n",
    "filter_df_SQ.sort_values(by=['days_before_travel'], inplace=True)\n",
    "filter_df_SQ"
   ]
  },
  {
   "cell_type": "code",
   "execution_count": 11,
   "metadata": {
    "collapsed": false
   },
   "outputs": [
    {
     "data": {
      "text/html": [
       "<div>\n",
       "<style scoped>\n",
       "    .dataframe tbody tr th:only-of-type {\n",
       "        vertical-align: middle;\n",
       "    }\n",
       "\n",
       "    .dataframe tbody tr th {\n",
       "        vertical-align: top;\n",
       "    }\n",
       "\n",
       "    .dataframe thead th {\n",
       "        text-align: right;\n",
       "    }\n",
       "</style>\n",
       "<table border=\"1\" class=\"dataframe\">\n",
       "  <thead>\n",
       "    <tr style=\"text-align: right;\">\n",
       "      <th></th>\n",
       "      <th>carrier</th>\n",
       "      <th>departure_time</th>\n",
       "      <th>stops</th>\n",
       "      <th>source</th>\n",
       "      <th>destination</th>\n",
       "      <th>itinerary_type</th>\n",
       "      <th>travel_date</th>\n",
       "      <th>days_before_travel</th>\n",
       "      <th>price</th>\n",
       "    </tr>\n",
       "  </thead>\n",
       "  <tbody>\n",
       "    <tr>\n",
       "      <th>677</th>\n",
       "      <td>IndiGo</td>\n",
       "      <td>11:30</td>\n",
       "      <td>Non-stop</td>\n",
       "      <td>SIN</td>\n",
       "      <td>MAA</td>\n",
       "      <td>one-way</td>\n",
       "      <td>2020-05-01</td>\n",
       "      <td>16</td>\n",
       "      <td>139.0</td>\n",
       "    </tr>\n",
       "    <tr>\n",
       "      <th>161</th>\n",
       "      <td>IndiGo</td>\n",
       "      <td>11:30</td>\n",
       "      <td>Non-stop</td>\n",
       "      <td>SIN</td>\n",
       "      <td>MAA</td>\n",
       "      <td>one-way</td>\n",
       "      <td>2020-05-01</td>\n",
       "      <td>17</td>\n",
       "      <td>139.0</td>\n",
       "    </tr>\n",
       "    <tr>\n",
       "      <th>0</th>\n",
       "      <td>IndiGo</td>\n",
       "      <td>11:30</td>\n",
       "      <td>Non-stop</td>\n",
       "      <td>SIN</td>\n",
       "      <td>MAA</td>\n",
       "      <td>one-way</td>\n",
       "      <td>2020-05-01</td>\n",
       "      <td>18</td>\n",
       "      <td>139.0</td>\n",
       "    </tr>\n",
       "  </tbody>\n",
       "</table>\n",
       "</div>"
      ],
      "text/plain": [
       "    carrier departure_time     stops source destination itinerary_type  \\\n",
       "677  IndiGo          11:30  Non-stop    SIN         MAA        one-way   \n",
       "161  IndiGo          11:30  Non-stop    SIN         MAA        one-way   \n",
       "0    IndiGo          11:30  Non-stop    SIN         MAA        one-way   \n",
       "\n",
       "    travel_date  days_before_travel  price  \n",
       "677  2020-05-01                  16  139.0  \n",
       "161  2020-05-01                  17  139.0  \n",
       "0    2020-05-01                  18  139.0  "
      ]
     },
     "execution_count": 11,
     "metadata": {},
     "output_type": "execute_result"
    }
   ],
   "source": [
    "filter_df_IG = filter_df.copy()\n",
    "filter_df_IG = filter_df_IG[(filter_df_IG['carrier'] == 'IndiGo')]\n",
    "filter_df_IG.sort_values(by=['days_before_travel'], inplace=True)\n",
    "filter_df_IG"
   ]
  },
  {
   "cell_type": "code",
   "execution_count": 12,
   "metadata": {
    "collapsed": false
   },
   "outputs": [
    {
     "data": {
      "text/html": [
       "<div>\n",
       "<style scoped>\n",
       "    .dataframe tbody tr th:only-of-type {\n",
       "        vertical-align: middle;\n",
       "    }\n",
       "\n",
       "    .dataframe tbody tr th {\n",
       "        vertical-align: top;\n",
       "    }\n",
       "\n",
       "    .dataframe thead th {\n",
       "        text-align: right;\n",
       "    }\n",
       "</style>\n",
       "<table border=\"1\" class=\"dataframe\">\n",
       "  <thead>\n",
       "    <tr style=\"text-align: right;\">\n",
       "      <th></th>\n",
       "      <th>carrier</th>\n",
       "      <th>departure_time</th>\n",
       "      <th>stops</th>\n",
       "      <th>source</th>\n",
       "      <th>destination</th>\n",
       "      <th>itinerary_type</th>\n",
       "      <th>travel_date</th>\n",
       "      <th>days_before_travel</th>\n",
       "      <th>price</th>\n",
       "    </tr>\n",
       "  </thead>\n",
       "  <tbody>\n",
       "    <tr>\n",
       "      <th>160</th>\n",
       "      <td>Scoot</td>\n",
       "      <td>22:50</td>\n",
       "      <td>Non-stop</td>\n",
       "      <td>SIN</td>\n",
       "      <td>MAA</td>\n",
       "      <td>one-way</td>\n",
       "      <td>2020-05-01</td>\n",
       "      <td>17</td>\n",
       "      <td>134.0</td>\n",
       "    </tr>\n",
       "    <tr>\n",
       "      <th>1</th>\n",
       "      <td>Scoot</td>\n",
       "      <td>22:50</td>\n",
       "      <td>Non-stop</td>\n",
       "      <td>SIN</td>\n",
       "      <td>MAA</td>\n",
       "      <td>one-way</td>\n",
       "      <td>2020-05-01</td>\n",
       "      <td>18</td>\n",
       "      <td>144.0</td>\n",
       "    </tr>\n",
       "  </tbody>\n",
       "</table>\n",
       "</div>"
      ],
      "text/plain": [
       "    carrier departure_time     stops source destination itinerary_type  \\\n",
       "160   Scoot          22:50  Non-stop    SIN         MAA        one-way   \n",
       "1     Scoot          22:50  Non-stop    SIN         MAA        one-way   \n",
       "\n",
       "    travel_date  days_before_travel  price  \n",
       "160  2020-05-01                  17  134.0  \n",
       "1    2020-05-01                  18  144.0  "
      ]
     },
     "execution_count": 12,
     "metadata": {},
     "output_type": "execute_result"
    }
   ],
   "source": [
    "filter_df_SC = filter_df.copy()\n",
    "filter_df_SC = filter_df_SC[(filter_df_SC['carrier'] == 'Scoot')]\n",
    "filter_df_SC.sort_values(by=['days_before_travel'], inplace=True)\n",
    "filter_df_SC"
   ]
  },
  {
   "cell_type": "code",
   "execution_count": 13,
   "metadata": {
    "collapsed": false
   },
   "outputs": [
    {
     "data": {
      "text/html": [
       "<div>\n",
       "<style scoped>\n",
       "    .dataframe tbody tr th:only-of-type {\n",
       "        vertical-align: middle;\n",
       "    }\n",
       "\n",
       "    .dataframe tbody tr th {\n",
       "        vertical-align: top;\n",
       "    }\n",
       "\n",
       "    .dataframe thead th {\n",
       "        text-align: right;\n",
       "    }\n",
       "</style>\n",
       "<table border=\"1\" class=\"dataframe\">\n",
       "  <thead>\n",
       "    <tr style=\"text-align: right;\">\n",
       "      <th></th>\n",
       "      <th>carrier</th>\n",
       "      <th>departure_time</th>\n",
       "      <th>stops</th>\n",
       "      <th>source</th>\n",
       "      <th>destination</th>\n",
       "      <th>itinerary_type</th>\n",
       "      <th>travel_date</th>\n",
       "      <th>days_before_travel</th>\n",
       "      <th>price</th>\n",
       "    </tr>\n",
       "  </thead>\n",
       "  <tbody>\n",
       "  </tbody>\n",
       "</table>\n",
       "</div>"
      ],
      "text/plain": [
       "Empty DataFrame\n",
       "Columns: [carrier, departure_time, stops, source, destination, itinerary_type, travel_date, days_before_travel, price]\n",
       "Index: []"
      ]
     },
     "execution_count": 13,
     "metadata": {},
     "output_type": "execute_result"
    }
   ],
   "source": [
    "filter_df_AE = filter_df.copy()\n",
    "filter_df_AE = filter_df_AE[(filter_df_AE['carrier'] == 'Air-India Express')]\n",
    "filter_df_AE.sort_values(by=['days_before_travel'], inplace=True)\n",
    "filter_df_AE"
   ]
  },
  {
   "cell_type": "code",
   "execution_count": 14,
   "metadata": {
    "collapsed": false
   },
   "outputs": [
    {
     "data": {
      "text/html": [
       "<div>\n",
       "<style scoped>\n",
       "    .dataframe tbody tr th:only-of-type {\n",
       "        vertical-align: middle;\n",
       "    }\n",
       "\n",
       "    .dataframe tbody tr th {\n",
       "        vertical-align: top;\n",
       "    }\n",
       "\n",
       "    .dataframe thead th {\n",
       "        text-align: right;\n",
       "    }\n",
       "</style>\n",
       "<table border=\"1\" class=\"dataframe\">\n",
       "  <thead>\n",
       "    <tr style=\"text-align: right;\">\n",
       "      <th></th>\n",
       "      <th>carrier</th>\n",
       "      <th>departure_time</th>\n",
       "      <th>stops</th>\n",
       "      <th>source</th>\n",
       "      <th>destination</th>\n",
       "      <th>itinerary_type</th>\n",
       "      <th>travel_date</th>\n",
       "      <th>days_before_travel</th>\n",
       "      <th>price</th>\n",
       "    </tr>\n",
       "  </thead>\n",
       "  <tbody>\n",
       "  </tbody>\n",
       "</table>\n",
       "</div>"
      ],
      "text/plain": [
       "Empty DataFrame\n",
       "Columns: [carrier, departure_time, stops, source, destination, itinerary_type, travel_date, days_before_travel, price]\n",
       "Index: []"
      ]
     },
     "execution_count": 14,
     "metadata": {},
     "output_type": "execute_result"
    }
   ],
   "source": [
    "filter_df_AI = filter_df.copy()\n",
    "filter_df_AI = filter_df_AI[(filter_df_AI['carrier'] == 'Air India')]\n",
    "filter_df_AI.sort_values(by=['days_before_travel'], inplace=True)\n",
    "filter_df_AI"
   ]
  },
  {
   "cell_type": "code",
   "execution_count": 15,
   "metadata": {
    "collapsed": false
   },
   "outputs": [
    {
     "data": {
      "text/html": [
       "<div>\n",
       "<style scoped>\n",
       "    .dataframe tbody tr th:only-of-type {\n",
       "        vertical-align: middle;\n",
       "    }\n",
       "\n",
       "    .dataframe tbody tr th {\n",
       "        vertical-align: top;\n",
       "    }\n",
       "\n",
       "    .dataframe thead th {\n",
       "        text-align: right;\n",
       "    }\n",
       "</style>\n",
       "<table border=\"1\" class=\"dataframe\">\n",
       "  <thead>\n",
       "    <tr style=\"text-align: right;\">\n",
       "      <th></th>\n",
       "      <th>carrier</th>\n",
       "      <th>departure_time</th>\n",
       "      <th>stops</th>\n",
       "      <th>source</th>\n",
       "      <th>destination</th>\n",
       "      <th>itinerary_type</th>\n",
       "      <th>travel_date</th>\n",
       "      <th>days_before_travel</th>\n",
       "      <th>price</th>\n",
       "    </tr>\n",
       "  </thead>\n",
       "  <tbody>\n",
       "    <tr>\n",
       "      <th>2710</th>\n",
       "      <td>Silkair</td>\n",
       "      <td>07:40</td>\n",
       "      <td>Non-stop</td>\n",
       "      <td>SIN</td>\n",
       "      <td>MAA</td>\n",
       "      <td>one-way</td>\n",
       "      <td>2020-05-01</td>\n",
       "      <td>12</td>\n",
       "      <td>972.0</td>\n",
       "    </tr>\n",
       "    <tr>\n",
       "      <th>2213</th>\n",
       "      <td>Silkair</td>\n",
       "      <td>07:40</td>\n",
       "      <td>Non-stop</td>\n",
       "      <td>SIN</td>\n",
       "      <td>MAA</td>\n",
       "      <td>one-way</td>\n",
       "      <td>2020-05-01</td>\n",
       "      <td>13</td>\n",
       "      <td>972.0</td>\n",
       "    </tr>\n",
       "    <tr>\n",
       "      <th>1706</th>\n",
       "      <td>Silkair</td>\n",
       "      <td>07:40</td>\n",
       "      <td>Non-stop</td>\n",
       "      <td>SIN</td>\n",
       "      <td>MAA</td>\n",
       "      <td>one-way</td>\n",
       "      <td>2020-05-01</td>\n",
       "      <td>14</td>\n",
       "      <td>972.0</td>\n",
       "    </tr>\n",
       "    <tr>\n",
       "      <th>1192</th>\n",
       "      <td>Silkair</td>\n",
       "      <td>07:40</td>\n",
       "      <td>Non-stop</td>\n",
       "      <td>SIN</td>\n",
       "      <td>MAA</td>\n",
       "      <td>one-way</td>\n",
       "      <td>2020-05-01</td>\n",
       "      <td>15</td>\n",
       "      <td>972.0</td>\n",
       "    </tr>\n",
       "    <tr>\n",
       "      <th>678</th>\n",
       "      <td>Silkair</td>\n",
       "      <td>7:40</td>\n",
       "      <td>Non-stop</td>\n",
       "      <td>SIN</td>\n",
       "      <td>MAA</td>\n",
       "      <td>one-way</td>\n",
       "      <td>2020-05-01</td>\n",
       "      <td>16</td>\n",
       "      <td>972.0</td>\n",
       "    </tr>\n",
       "    <tr>\n",
       "      <th>162</th>\n",
       "      <td>Silkair</td>\n",
       "      <td>7:40</td>\n",
       "      <td>Non-stop</td>\n",
       "      <td>SIN</td>\n",
       "      <td>MAA</td>\n",
       "      <td>one-way</td>\n",
       "      <td>2020-05-01</td>\n",
       "      <td>17</td>\n",
       "      <td>970.0</td>\n",
       "    </tr>\n",
       "    <tr>\n",
       "      <th>2</th>\n",
       "      <td>Silkair</td>\n",
       "      <td>7:40</td>\n",
       "      <td>Non-stop</td>\n",
       "      <td>SIN</td>\n",
       "      <td>MAA</td>\n",
       "      <td>one-way</td>\n",
       "      <td>2020-05-01</td>\n",
       "      <td>18</td>\n",
       "      <td>981.0</td>\n",
       "    </tr>\n",
       "  </tbody>\n",
       "</table>\n",
       "</div>"
      ],
      "text/plain": [
       "      carrier departure_time     stops source destination itinerary_type  \\\n",
       "2710  Silkair          07:40  Non-stop    SIN         MAA        one-way   \n",
       "2213  Silkair          07:40  Non-stop    SIN         MAA        one-way   \n",
       "1706  Silkair          07:40  Non-stop    SIN         MAA        one-way   \n",
       "1192  Silkair          07:40  Non-stop    SIN         MAA        one-way   \n",
       "678   Silkair           7:40  Non-stop    SIN         MAA        one-way   \n",
       "162   Silkair           7:40  Non-stop    SIN         MAA        one-way   \n",
       "2     Silkair           7:40  Non-stop    SIN         MAA        one-way   \n",
       "\n",
       "     travel_date  days_before_travel  price  \n",
       "2710  2020-05-01                  12  972.0  \n",
       "2213  2020-05-01                  13  972.0  \n",
       "1706  2020-05-01                  14  972.0  \n",
       "1192  2020-05-01                  15  972.0  \n",
       "678   2020-05-01                  16  972.0  \n",
       "162   2020-05-01                  17  970.0  \n",
       "2     2020-05-01                  18  981.0  "
      ]
     },
     "execution_count": 15,
     "metadata": {},
     "output_type": "execute_result"
    }
   ],
   "source": [
    "filter_df_SA = filter_df.copy()\n",
    "filter_df_SA = filter_df_SA[(filter_df_SA['carrier'] == 'Silkair')]\n",
    "filter_df_SA.sort_values(by=['days_before_travel'], inplace=True)\n",
    "filter_df_SA"
   ]
  },
  {
   "cell_type": "code",
   "execution_count": 16,
   "metadata": {
    "collapsed": false
   },
   "outputs": [
    {
     "data": {
      "text/html": [
       "<div>\n",
       "<style scoped>\n",
       "    .dataframe tbody tr th:only-of-type {\n",
       "        vertical-align: middle;\n",
       "    }\n",
       "\n",
       "    .dataframe tbody tr th {\n",
       "        vertical-align: top;\n",
       "    }\n",
       "\n",
       "    .dataframe thead th {\n",
       "        text-align: right;\n",
       "    }\n",
       "</style>\n",
       "<table border=\"1\" class=\"dataframe\">\n",
       "  <thead>\n",
       "    <tr style=\"text-align: right;\">\n",
       "      <th></th>\n",
       "      <th>carrier</th>\n",
       "      <th>departure_time</th>\n",
       "      <th>stops</th>\n",
       "      <th>source</th>\n",
       "      <th>destination</th>\n",
       "      <th>itinerary_type</th>\n",
       "      <th>travel_date</th>\n",
       "      <th>days_before_travel</th>\n",
       "      <th>price</th>\n",
       "    </tr>\n",
       "  </thead>\n",
       "  <tbody>\n",
       "    <tr>\n",
       "      <th>1822</th>\n",
       "      <td>1</td>\n",
       "      <td>20:25</td>\n",
       "      <td>1</td>\n",
       "      <td>1</td>\n",
       "      <td>1</td>\n",
       "      <td>1</td>\n",
       "      <td>2020-05-23</td>\n",
       "      <td>36</td>\n",
       "      <td>972.0</td>\n",
       "    </tr>\n",
       "    <tr>\n",
       "      <th>1960</th>\n",
       "      <td>5</td>\n",
       "      <td>09:00</td>\n",
       "      <td>1</td>\n",
       "      <td>1</td>\n",
       "      <td>1</td>\n",
       "      <td>1</td>\n",
       "      <td>2020-06-15</td>\n",
       "      <td>59</td>\n",
       "      <td>205.0</td>\n",
       "    </tr>\n",
       "    <tr>\n",
       "      <th>1041</th>\n",
       "      <td>1</td>\n",
       "      <td>20:05</td>\n",
       "      <td>1</td>\n",
       "      <td>1</td>\n",
       "      <td>2</td>\n",
       "      <td>1</td>\n",
       "      <td>2020-05-21</td>\n",
       "      <td>34</td>\n",
       "      <td>1002.0</td>\n",
       "    </tr>\n",
       "    <tr>\n",
       "      <th>365</th>\n",
       "      <td>7</td>\n",
       "      <td>09:30</td>\n",
       "      <td>1</td>\n",
       "      <td>1</td>\n",
       "      <td>3</td>\n",
       "      <td>1</td>\n",
       "      <td>2020-07-16</td>\n",
       "      <td>92</td>\n",
       "      <td>261.0</td>\n",
       "    </tr>\n",
       "    <tr>\n",
       "      <th>121</th>\n",
       "      <td>1</td>\n",
       "      <td>20:05</td>\n",
       "      <td>1</td>\n",
       "      <td>1</td>\n",
       "      <td>2</td>\n",
       "      <td>1</td>\n",
       "      <td>2020-06-03</td>\n",
       "      <td>50</td>\n",
       "      <td>562.0</td>\n",
       "    </tr>\n",
       "  </tbody>\n",
       "</table>\n",
       "</div>"
      ],
      "text/plain": [
       "      carrier departure_time  stops  source  destination  itinerary_type  \\\n",
       "1822        1          20:25      1       1            1               1   \n",
       "1960        5          09:00      1       1            1               1   \n",
       "1041        1          20:05      1       1            2               1   \n",
       "365         7          09:30      1       1            3               1   \n",
       "121         1          20:05      1       1            2               1   \n",
       "\n",
       "     travel_date  days_before_travel   price  \n",
       "1822  2020-05-23                  36   972.0  \n",
       "1960  2020-06-15                  59   205.0  \n",
       "1041  2020-05-21                  34  1002.0  \n",
       "365   2020-07-16                  92   261.0  \n",
       "121   2020-06-03                  50   562.0  "
      ]
     },
     "execution_count": 16,
     "metadata": {},
     "output_type": "execute_result"
    }
   ],
   "source": [
    "df_encoded = df.copy()\n",
    "replace_map = {'carrier': {'Singapore Airlines': 1, 'IndiGo': 2, 'Air-India Express': 3, 'Silkair': 4,\n",
    "                                  'Air India': 5, 'Scoot': 6, 'Vistara': 7}, 'stops': {'Non-stop': 1}, 'source': {'SIN': 1}, \n",
    "                                'destination': {'MAA': 1, 'BLR': 2, 'DEL': 3}, 'itinerary_type': {'one-way': 1}}\n",
    "df_encoded.replace(replace_map, inplace=True)\n",
    "df_encoded.sample(5)"
   ]
  },
  {
   "cell_type": "code",
   "execution_count": 17,
   "metadata": {
    "collapsed": false
   },
   "outputs": [
    {
     "data": {
      "text/html": [
       "<div>\n",
       "<style scoped>\n",
       "    .dataframe tbody tr th:only-of-type {\n",
       "        vertical-align: middle;\n",
       "    }\n",
       "\n",
       "    .dataframe tbody tr th {\n",
       "        vertical-align: top;\n",
       "    }\n",
       "\n",
       "    .dataframe thead th {\n",
       "        text-align: right;\n",
       "    }\n",
       "</style>\n",
       "<table border=\"1\" class=\"dataframe\">\n",
       "  <thead>\n",
       "    <tr style=\"text-align: right;\">\n",
       "      <th></th>\n",
       "      <th>carrier</th>\n",
       "      <th>source</th>\n",
       "      <th>destination</th>\n",
       "      <th>days_before_travel</th>\n",
       "      <th>price</th>\n",
       "      <th>travel_month</th>\n",
       "      <th>travel_day</th>\n",
       "      <th>departure_hour</th>\n",
       "      <th>departure_minute</th>\n",
       "    </tr>\n",
       "  </thead>\n",
       "  <tbody>\n",
       "    <tr>\n",
       "      <th>0</th>\n",
       "      <td>2</td>\n",
       "      <td>1</td>\n",
       "      <td>1</td>\n",
       "      <td>18</td>\n",
       "      <td>139.0</td>\n",
       "      <td>5</td>\n",
       "      <td>1</td>\n",
       "      <td>11</td>\n",
       "      <td>30</td>\n",
       "    </tr>\n",
       "    <tr>\n",
       "      <th>1</th>\n",
       "      <td>6</td>\n",
       "      <td>1</td>\n",
       "      <td>1</td>\n",
       "      <td>18</td>\n",
       "      <td>144.0</td>\n",
       "      <td>5</td>\n",
       "      <td>1</td>\n",
       "      <td>22</td>\n",
       "      <td>50</td>\n",
       "    </tr>\n",
       "    <tr>\n",
       "      <th>2</th>\n",
       "      <td>4</td>\n",
       "      <td>1</td>\n",
       "      <td>1</td>\n",
       "      <td>18</td>\n",
       "      <td>981.0</td>\n",
       "      <td>5</td>\n",
       "      <td>1</td>\n",
       "      <td>7</td>\n",
       "      <td>40</td>\n",
       "    </tr>\n",
       "    <tr>\n",
       "      <th>3</th>\n",
       "      <td>1</td>\n",
       "      <td>1</td>\n",
       "      <td>1</td>\n",
       "      <td>18</td>\n",
       "      <td>981.0</td>\n",
       "      <td>5</td>\n",
       "      <td>1</td>\n",
       "      <td>20</td>\n",
       "      <td>25</td>\n",
       "    </tr>\n",
       "    <tr>\n",
       "      <th>4</th>\n",
       "      <td>6</td>\n",
       "      <td>1</td>\n",
       "      <td>1</td>\n",
       "      <td>19</td>\n",
       "      <td>136.0</td>\n",
       "      <td>5</td>\n",
       "      <td>2</td>\n",
       "      <td>22</td>\n",
       "      <td>50</td>\n",
       "    </tr>\n",
       "  </tbody>\n",
       "</table>\n",
       "</div>"
      ],
      "text/plain": [
       "   carrier  source  destination  days_before_travel  price  travel_month  \\\n",
       "0        2       1            1                  18  139.0             5   \n",
       "1        6       1            1                  18  144.0             5   \n",
       "2        4       1            1                  18  981.0             5   \n",
       "3        1       1            1                  18  981.0             5   \n",
       "4        6       1            1                  19  136.0             5   \n",
       "\n",
       "   travel_day  departure_hour  departure_minute  \n",
       "0           1              11                30  \n",
       "1           1              22                50  \n",
       "2           1               7                40  \n",
       "3           1              20                25  \n",
       "4           2              22                50  "
      ]
     },
     "execution_count": 17,
     "metadata": {},
     "output_type": "execute_result"
    }
   ],
   "source": [
    "df_split = df_encoded.copy()\n",
    "df_split[[\"travel_year\",\"travel_month\",\"travel_day\"]] = df_split[\"travel_date\"].astype(str).str.split(\"-\", expand=True).astype(int)\n",
    "df_split[[\"departure_hour\", \"departure_minute\"]] = df_split[\"departure_time\"].str.split(\":\", expand=True).astype(int)\n",
    "df_split = df_split.drop(columns=['travel_date', 'departure_time', 'travel_year', 'itinerary_type', 'stops'])\n",
    "df_split.head()"
   ]
  },
  {
   "cell_type": "code",
   "execution_count": 18,
   "metadata": {
    "collapsed": false
   },
   "outputs": [
    {
     "data": {
      "text/html": [
       "<div>\n",
       "<style scoped>\n",
       "    .dataframe tbody tr th:only-of-type {\n",
       "        vertical-align: middle;\n",
       "    }\n",
       "\n",
       "    .dataframe tbody tr th {\n",
       "        vertical-align: top;\n",
       "    }\n",
       "\n",
       "    .dataframe thead th {\n",
       "        text-align: right;\n",
       "    }\n",
       "</style>\n",
       "<table border=\"1\" class=\"dataframe\">\n",
       "  <thead>\n",
       "    <tr style=\"text-align: right;\">\n",
       "      <th></th>\n",
       "      <th>carrier</th>\n",
       "      <th>source</th>\n",
       "      <th>destination</th>\n",
       "      <th>days_before_travel</th>\n",
       "      <th>price</th>\n",
       "      <th>travel_month</th>\n",
       "      <th>travel_day</th>\n",
       "      <th>departure_hour</th>\n",
       "      <th>departure_minute</th>\n",
       "      <th>departure_hour_range</th>\n",
       "    </tr>\n",
       "  </thead>\n",
       "  <tbody>\n",
       "    <tr>\n",
       "      <th>865</th>\n",
       "      <td>1</td>\n",
       "      <td>1</td>\n",
       "      <td>1</td>\n",
       "      <td>49</td>\n",
       "      <td>496.0</td>\n",
       "      <td>6</td>\n",
       "      <td>3</td>\n",
       "      <td>20</td>\n",
       "      <td>25</td>\n",
       "      <td>4</td>\n",
       "    </tr>\n",
       "    <tr>\n",
       "      <th>3204</th>\n",
       "      <td>5</td>\n",
       "      <td>1</td>\n",
       "      <td>1</td>\n",
       "      <td>101</td>\n",
       "      <td>205.0</td>\n",
       "      <td>7</td>\n",
       "      <td>29</td>\n",
       "      <td>9</td>\n",
       "      <td>0</td>\n",
       "      <td>2</td>\n",
       "    </tr>\n",
       "    <tr>\n",
       "      <th>993</th>\n",
       "      <td>4</td>\n",
       "      <td>1</td>\n",
       "      <td>2</td>\n",
       "      <td>21</td>\n",
       "      <td>1002.0</td>\n",
       "      <td>5</td>\n",
       "      <td>8</td>\n",
       "      <td>9</td>\n",
       "      <td>5</td>\n",
       "      <td>2</td>\n",
       "    </tr>\n",
       "    <tr>\n",
       "      <th>363</th>\n",
       "      <td>2</td>\n",
       "      <td>1</td>\n",
       "      <td>2</td>\n",
       "      <td>28</td>\n",
       "      <td>184.0</td>\n",
       "      <td>5</td>\n",
       "      <td>13</td>\n",
       "      <td>2</td>\n",
       "      <td>45</td>\n",
       "      <td>1</td>\n",
       "    </tr>\n",
       "    <tr>\n",
       "      <th>1619</th>\n",
       "      <td>4</td>\n",
       "      <td>1</td>\n",
       "      <td>2</td>\n",
       "      <td>102</td>\n",
       "      <td>290.0</td>\n",
       "      <td>7</td>\n",
       "      <td>29</td>\n",
       "      <td>9</td>\n",
       "      <td>5</td>\n",
       "      <td>2</td>\n",
       "    </tr>\n",
       "  </tbody>\n",
       "</table>\n",
       "</div>"
      ],
      "text/plain": [
       "      carrier  source  destination  days_before_travel   price  travel_month  \\\n",
       "865         1       1            1                  49   496.0             6   \n",
       "3204        5       1            1                 101   205.0             7   \n",
       "993         4       1            2                  21  1002.0             5   \n",
       "363         2       1            2                  28   184.0             5   \n",
       "1619        4       1            2                 102   290.0             7   \n",
       "\n",
       "      travel_day  departure_hour  departure_minute  departure_hour_range  \n",
       "865            3              20                25                     4  \n",
       "3204          29               9                 0                     2  \n",
       "993            8               9                 5                     2  \n",
       "363           13               2                45                     1  \n",
       "1619          29               9                 5                     2  "
      ]
     },
     "execution_count": 18,
     "metadata": {},
     "output_type": "execute_result"
    }
   ],
   "source": [
    "df_hour_range=df_split.copy()\n",
    "df_hour_range[\"departure_hour_range\"] = pd.cut(x=df_hour_range['departure_hour'], bins=[0, 6, 12, 18, 24], labels=[1, 2, 3, 4], right=False).astype(int)\n",
    "df_hour_range.sample(5)"
   ]
  },
  {
   "cell_type": "code",
   "execution_count": 19,
   "metadata": {
    "collapsed": false
   },
   "outputs": [
    {
     "data": {
      "text/html": [
       "<div>\n",
       "<style scoped>\n",
       "    .dataframe tbody tr th:only-of-type {\n",
       "        vertical-align: middle;\n",
       "    }\n",
       "\n",
       "    .dataframe tbody tr th {\n",
       "        vertical-align: top;\n",
       "    }\n",
       "\n",
       "    .dataframe thead th {\n",
       "        text-align: right;\n",
       "    }\n",
       "</style>\n",
       "<table border=\"1\" class=\"dataframe\">\n",
       "  <thead>\n",
       "    <tr style=\"text-align: right;\">\n",
       "      <th></th>\n",
       "      <th>carrier</th>\n",
       "      <th>source</th>\n",
       "      <th>destination</th>\n",
       "      <th>days_before_travel</th>\n",
       "      <th>price</th>\n",
       "      <th>travel_month</th>\n",
       "      <th>travel_day</th>\n",
       "      <th>departure_hour_range</th>\n",
       "    </tr>\n",
       "  </thead>\n",
       "  <tbody>\n",
       "    <tr>\n",
       "      <th>829</th>\n",
       "      <td>7</td>\n",
       "      <td>1</td>\n",
       "      <td>3</td>\n",
       "      <td>103</td>\n",
       "      <td>261.0</td>\n",
       "      <td>7</td>\n",
       "      <td>28</td>\n",
       "      <td>2</td>\n",
       "    </tr>\n",
       "    <tr>\n",
       "      <th>188</th>\n",
       "      <td>3</td>\n",
       "      <td>1</td>\n",
       "      <td>2</td>\n",
       "      <td>68</td>\n",
       "      <td>229.0</td>\n",
       "      <td>6</td>\n",
       "      <td>21</td>\n",
       "      <td>2</td>\n",
       "    </tr>\n",
       "    <tr>\n",
       "      <th>518</th>\n",
       "      <td>4</td>\n",
       "      <td>1</td>\n",
       "      <td>2</td>\n",
       "      <td>68</td>\n",
       "      <td>564.0</td>\n",
       "      <td>6</td>\n",
       "      <td>22</td>\n",
       "      <td>2</td>\n",
       "    </tr>\n",
       "    <tr>\n",
       "      <th>1723</th>\n",
       "      <td>1</td>\n",
       "      <td>1</td>\n",
       "      <td>1</td>\n",
       "      <td>18</td>\n",
       "      <td>972.0</td>\n",
       "      <td>5</td>\n",
       "      <td>5</td>\n",
       "      <td>4</td>\n",
       "    </tr>\n",
       "    <tr>\n",
       "      <th>3132</th>\n",
       "      <td>1</td>\n",
       "      <td>1</td>\n",
       "      <td>1</td>\n",
       "      <td>85</td>\n",
       "      <td>250.0</td>\n",
       "      <td>7</td>\n",
       "      <td>13</td>\n",
       "      <td>4</td>\n",
       "    </tr>\n",
       "  </tbody>\n",
       "</table>\n",
       "</div>"
      ],
      "text/plain": [
       "      carrier  source  destination  days_before_travel  price  travel_month  \\\n",
       "829         7       1            3                 103  261.0             7   \n",
       "188         3       1            2                  68  229.0             6   \n",
       "518         4       1            2                  68  564.0             6   \n",
       "1723        1       1            1                  18  972.0             5   \n",
       "3132        1       1            1                  85  250.0             7   \n",
       "\n",
       "      travel_day  departure_hour_range  \n",
       "829           28                     2  \n",
       "188           21                     2  \n",
       "518           22                     2  \n",
       "1723           5                     4  \n",
       "3132          13                     4  "
      ]
     },
     "execution_count": 19,
     "metadata": {},
     "output_type": "execute_result"
    }
   ],
   "source": [
    "df_split = df_hour_range.drop(columns=['departure_hour', 'departure_minute'])\n",
    "df_split.sample(5)"
   ]
  },
  {
   "cell_type": "code",
   "execution_count": 20,
   "metadata": {
    "collapsed": false
   },
   "outputs": [
    {
     "name": "stdout",
     "output_type": "stream",
     "text": [
      "<class 'pandas.core.frame.DataFrame'>\n",
      "Int64Index: 4564 entries, 0 to 1651\n",
      "Data columns (total 8 columns):\n",
      " #   Column                Non-Null Count  Dtype  \n",
      "---  ------                --------------  -----  \n",
      " 0   carrier               4564 non-null   int64  \n",
      " 1   source                4564 non-null   int64  \n",
      " 2   destination           4564 non-null   int64  \n",
      " 3   days_before_travel    4564 non-null   int64  \n",
      " 4   price                 4564 non-null   float64\n",
      " 5   travel_month          4564 non-null   int64  \n",
      " 6   travel_day            4564 non-null   int64  \n",
      " 7   departure_hour_range  4564 non-null   int64  \n",
      "dtypes: float64(1), int64(7)\n",
      "memory usage: 320.9 KB\n",
      "None\n"
     ]
    }
   ],
   "source": [
    "df_final = df_split.copy()\n",
    "print(df_final.info())"
   ]
  },
  {
   "cell_type": "code",
   "execution_count": 21,
   "metadata": {
    "collapsed": false
   },
   "outputs": [
    {
     "name": "stdout",
     "output_type": "stream",
     "text": [
      "639     150.0\n",
      "1084    582.0\n",
      "1498    564.0\n",
      "739     143.0\n",
      "195     269.0\n",
      "Name: price, dtype: float64\n",
      "     carrier  source  destination  days_before_travel  travel_month  \\\n",
      "311        1       1            2                 102             7   \n",
      "497        7       1            3                  33             5   \n",
      "991        1       1            2                  20             5   \n",
      "271        5       1            3                  73             6   \n",
      "185        2       1            3                  56             6   \n",
      "\n",
      "     travel_day  departure_hour_range  \n",
      "311          25                     4  \n",
      "497          19                     2  \n",
      "991           7                     4  \n",
      "271          27                     2  \n",
      "185          10                     4  \n"
     ]
    }
   ],
   "source": [
    "y = df_final.pop('price')\n",
    "print(y.sample(5))\n",
    "X = df_final\n",
    "print(X.sample(5))"
   ]
  },
  {
   "cell_type": "code",
   "execution_count": 22,
   "metadata": {
    "collapsed": false
   },
   "outputs": [
    {
     "data": {
      "image/png": "[encoded data removed]",
      "text/plain": [
       "<Figure size 720x576 with 2 Axes>"
      ]
     },
     "metadata": {},
     "output_type": "display_data"
    }
   ],
   "source": [
    "plt.figure(figsize=(10, 8))\n",
    "sns.heatmap(X.corr(), annot=True)\n",
    "plt.show()"
   ]
  },
  {
   "cell_type": "code",
   "execution_count": 23,
   "metadata": {
    "collapsed": false
   },
   "outputs": [
    {
     "name": "stdout",
     "output_type": "stream",
     "text": [
      "Accuracy of Training Set: 99.95\n"
     ]
    }
   ],
   "source": [
    "from sklearn.ensemble import RandomForestRegressor\n",
    "from sklearn.linear_model import LinearRegression\n",
    "from sklearn.model_selection import train_test_split\n",
    "X_train, X_test, y_train, y_test = train_test_split(X, y, test_size=0.01)\n",
    "model = RandomForestRegressor()\n",
    "model = model.fit(X_train, y_train)\n",
    "train_accuracy = model.score(X_train, y_train) * 100\n",
    "print('Accuracy of Training Set: {:.2f}'.format(train_accuracy))"
   ]
  },
  {
   "cell_type": "code",
   "execution_count": 24,
   "metadata": {
    "collapsed": false
   },
   "outputs": [
    {
     "name": "stdout",
     "output_type": "stream",
     "text": [
      "[0.47997024 0.         0.03197847 0.01468478 0.45447779 0.00177149\n",
      " 0.01711723]\n"
     ]
    },
    {
     "data": {
      "image/png": "[encoded data removed]",
      "text/plain": [
       "<Figure size 1080x432 with 1 Axes>"
      ]
     },
     "metadata": {},
     "output_type": "display_data"
    }
   ],
   "source": [
    "importances = model.feature_importances_\n",
    "print(importances)\n",
    "plt.figure(figsize=(15, 6))\n",
    "importance = model.feature_importances_\n",
    "plt.bar([x for x in X.columns], importance)\n",
    "plt.show()"
   ]
  },
  {
   "cell_type": "code",
   "execution_count": 25,
   "metadata": {
    "collapsed": false
   },
   "outputs": [
    {
     "name": "stdout",
     "output_type": "stream",
     "text": [
      "4.530652173913047\n",
      "12.202884459439698\n",
      "0.997637140291878\n"
     ]
    }
   ],
   "source": [
    "from sklearn.metrics import mean_squared_error\n",
    "from sklearn.metrics import mean_absolute_error\n",
    "from sklearn.metrics import r2_score\n",
    "\n",
    "y_pred = model.predict(X_test)\n",
    "print(mean_absolute_error(y_test, y_pred))\n",
    "print(mean_squared_error(y_test, y_pred , squared=False))\n",
    "print(r2_score(y_test, y_pred))"
   ]
  },
  {
   "cell_type": "code",
   "execution_count": 26,
   "metadata": {
    "collapsed": false
   },
   "outputs": [
    {
     "name": "stdout",
     "output_type": "stream",
     "text": [
      "1.5918083169965636\n",
      "6.863826729793695\n",
      "0.9994619376615884\n"
     ]
    }
   ],
   "source": [
    "y_pred = model.predict(X_train)\n",
    "print(mean_absolute_error(y_train, y_pred))\n",
    "print(mean_squared_error(y_train, y_pred , squared=False))\n",
    "print(r2_score(y_train, y_pred))"
   ]
  },
  {
   "cell_type": "code",
   "execution_count": 27,
   "metadata": {
    "collapsed": false
   },
   "outputs": [
    {
     "data": {
      "text/plain": [
       "['airfare-MAA-BLR-DEL.pkl']"
      ]
     },
     "execution_count": 27,
     "metadata": {},
     "output_type": "execute_result"
    }
   ],
   "source": [
    "import joblib\n",
    "joblib.dump(model, 'airfare-MAA-BLR-DEL.pkl')"
   ]
  },
  {
   "cell_type": "code",
   "execution_count": 28,
   "metadata": {
    "collapsed": false
   },
   "outputs": [],
   "source": [
    "\"\"\"\n",
    "{\n",
    "'Singapore Airlines': 1, \n",
    "'IndiGo': 2, \n",
    "'Air-India Express': 3, \n",
    "'Silkair': 4,\n",
    "'Air India': 5, \n",
    "'Scoot': 6, \n",
    "'Vistara': 7\n",
    "}\n",
    "{'SIN': 1}\n",
    "{'MAA': 1, 'BLR': 2, 'DEL': 3}\n",
    "\"\"\"\n",
    "model = joblib.load('airfare-MAA-BLR-DEL.pkl')"
   ]
  },
  {
   "cell_type": "code",
   "execution_count": 29,
   "metadata": {
    "collapsed": false
   },
   "outputs": [
    {
     "data": {
      "image/png": "[encoded data removed]",
      "text/plain": [
       "<Figure size 1080x432 with 1 Axes>"
      ]
     },
     "metadata": {},
     "output_type": "display_data"
    },
    {
     "data": {
      "image/png": "[encoded data removed]",
      "text/plain": [
       "<Figure size 1080x432 with 1 Axes>"
      ]
     },
     "metadata": {},
     "output_type": "display_data"
    },
    {
     "data": {
      "image/png": "[encoded data removed]",
      "text/plain": [
       "<Figure size 1080x432 with 1 Axes>"
      ]
     },
     "metadata": {},
     "output_type": "display_data"
    },
    {
     "data": {
      "image/png": "[encoded data removed]",
      "text/plain": [
       "<Figure size 1080x432 with 1 Axes>"
      ]
     },
     "metadata": {},
     "output_type": "display_data"
    }
   ],
   "source": [
    "carrmap = {1: 'Singapore Airlines',2: 'IndiGo',3:'Air-India Express',4:'Silkair',5:'Air India',6:'Scoot',7:'Vistara'}\n",
    "days = 18\n",
    "carr = [1,2,3,4,5,6]\n",
    "source = 1\n",
    "dest = 1\n",
    "trav_mnth = 5\n",
    "trav_day = 1\n",
    "dep_hour_range = [4,2,1,2,2,4]\n",
    "for i in range(0,len(carr)):\n",
    "    \n",
    "    filter_df_ = df_split.copy()\n",
    "    filter_df_ = filter_df_[(filter_df_['carrier'] == carr[i])]\n",
    "    filter_df_ = filter_df_[(filter_df_['travel_month'] == trav_mnth) & (filter_df_['destination'] == dest) & (filter_df_['travel_day'] == trav_day)]\n",
    "    filter_df_ = filter_df_[(filter_df_['departure_hour_range'] == dep_hour_range[i])]\n",
    "    filter_df_.sort_values(by=['days_before_travel'], inplace=True)\n",
    "    #print(filter_df_)\n",
    "    #print(\"Count {}\".format(filter_df_.shape[0]))\n",
    "    if filter_df_.shape[0] == 0:\n",
    "        continue\n",
    "    predict = pd.DataFrame()\n",
    "    predict['carrier'] = [carr[i] for x in range(0,days)]\n",
    "    predict['source'] = [source for x in range(0,days)]\n",
    "    predict['destination'] = [dest for x in range(0,days)]\n",
    "    predict['days_before_travel'] = [x for x in range(1,days+1)]\n",
    "    predict['travel_month'] = [trav_mnth for x in range(0,days)]\n",
    "    predict['travel_day'] = [trav_day for x in range(0,days)]\n",
    "    predict['departure_hour_range'] = [dep_hour_range[i] for x in range(0,days)]\n",
    "\n",
    "    pred = model.predict(predict)\n",
    "    #print(pred)\n",
    "    act = np.array(filter_df_['price'])\n",
    "    min_max = np.concatenate((pred, act), axis=0)\n",
    "    actual = np.pad(act, (days-act.size, 0), 'constant')\n",
    "    #print(actual)\n",
    "    fig, ax = plt.subplots(figsize=(15, 6))\n",
    "    ax.scatter(x = range(0, pred.size), y=pred, c = 'green', label = 'Actual', alpha = 0.5, s=250, \n",
    "               linewidth=0, edgecolors='green')\n",
    "    ax.scatter(x = range(0, actual.size), y=actual, c = 'red', label = 'Predicted', alpha = 0.5, s=100, \n",
    "               linewidth=0, edgecolors='red')\n",
    "    plt.title('Actual vs Predicted for {}'.format(carrmap.get(carr[i])))\n",
    "    plt.xlabel('Days before Travel')\n",
    "    plt.ylabel('Price')\n",
    "    plt.gca().invert_xaxis()\n",
    "    plt.ylim(min(min_max)-30, max(min_max)+30)\n",
    "    plt.show()"
   ]
  },
  {
   "cell_type": "code",
   "execution_count": 35,
   "metadata": {
    "collapsed": false
   },
   "outputs": [
    {
     "data": {
      "image/png": "[encoded data removed]",
      "text/plain": [
       "<Figure size 1080x432 with 1 Axes>"
      ]
     },
     "metadata": {},
     "output_type": "display_data"
    },
    {
     "data": {
      "image/png": "[encoded data removed]",
      "text/plain": [
       "<Figure size 1080x432 with 1 Axes>"
      ]
     },
     "metadata": {},
     "output_type": "display_data"
    },
    {
     "data": {
      "image/png": "[encoded data removed]",
      "text/plain": [
       "<Figure size 1080x432 with 1 Axes>"
      ]
     },
     "metadata": {},
     "output_type": "display_data"
    }
   ],
   "source": [
    "carrmap = {1: 'Singapore Airlines',2: 'IndiGo',5:'Air India',7:'Vistara'}\n",
    "days = 18\n",
    "carr = [1,2,1,5,7]\n",
    "source = 1\n",
    "dest = 3\n",
    "trav_mnth = 5\n",
    "trav_day = 1\n",
    "dep_hour_range = [3,4,1,2,2]\n",
    "for i in range(0,len(carr)):\n",
    "    \n",
    "    filter_df_ = df_split.copy()\n",
    "    filter_df_ = filter_df_[(filter_df_['carrier'] == carr[i])]\n",
    "    filter_df_ = filter_df_[(filter_df_['travel_month'] == trav_mnth) & (filter_df_['destination'] == dest) & (filter_df_['travel_day'] == trav_day)]\n",
    "    filter_df_ = filter_df_[(filter_df_['departure_hour_range'] == dep_hour_range[i])]\n",
    "    filter_df_.sort_values(by=['days_before_travel'], inplace=True)\n",
    "    #print(filter_df_)\n",
    "    #print(\"Count {}\".format(filter_df_.shape[0]))\n",
    "    if filter_df_.shape[0] == 0:\n",
    "        continue\n",
    "\n",
    "    predict = pd.DataFrame()\n",
    "    predict['carrier'] = [carr[i] for x in range(0,days)]\n",
    "    predict['source'] = [source for x in range(0,days)]\n",
    "    predict['destination'] = [dest for x in range(0,days)]\n",
    "    predict['days_before_travel'] = [x for x in range(1,days+1)]\n",
    "    predict['travel_month'] = [trav_mnth for x in range(0,days)]\n",
    "    predict['travel_day'] = [trav_day for x in range(0,days)]\n",
    "    predict['departure_hour_range'] = [dep_hour_range[i] for x in range(0,days)]\n",
    "    #print(predict)\n",
    "    pred = model.predict(predict)\n",
    "    #print(pred)\n",
    "    act = np.array(filter_df_['price'])\n",
    "    min_max = np.concatenate((pred, act), axis=0)\n",
    "    actual = np.pad(act, (days-act.size, 0), 'constant')\n",
    "    #print(actual)\n",
    "    fig, ax = plt.subplots(figsize=(15, 6))\n",
    "    ax.scatter(x = range(0, pred.size), y=pred, c = 'green', label = 'Actual', alpha = 0.5, s=250, \n",
    "               linewidth=0, edgecolors='green')\n",
    "    ax.scatter(x = range(0, actual.size), y=actual, c = 'red', label = 'Predicted', alpha = 0.5, s=100, \n",
    "               linewidth=0, edgecolors='red')\n",
    "    plt.title('Actual vs Predicted for {}'.format(carrmap.get(carr[i])))\n",
    "    plt.xlabel('Days before Travel')\n",
    "    plt.ylabel('Price')\n",
    "    plt.gca().invert_xaxis()\n",
    "    plt.ylim(min(min_max)-30, max(min_max)+30)\n",
    "    plt.show()"
   ]
  },
  {
   "cell_type": "markdown",
   "metadata": {},
   "source": [
    "### Appendix"
   ]
  },
  {
   "cell_type": "code",
   "execution_count": 43,
   "metadata": {
    "collapsed": false
   },
   "outputs": [
    {
     "data": {
      "text/html": [
       "<div>\n",
       "<style scoped>\n",
       "    .dataframe tbody tr th:only-of-type {\n",
       "        vertical-align: middle;\n",
       "    }\n",
       "\n",
       "    .dataframe tbody tr th {\n",
       "        vertical-align: top;\n",
       "    }\n",
       "\n",
       "    .dataframe thead th {\n",
       "        text-align: right;\n",
       "    }\n",
       "</style>\n",
       "<table border=\"1\" class=\"dataframe\">\n",
       "  <thead>\n",
       "    <tr style=\"text-align: right;\">\n",
       "      <th></th>\n",
       "      <th>carrier</th>\n",
       "      <th>source</th>\n",
       "      <th>destination</th>\n",
       "      <th>days_before_travel</th>\n",
       "      <th>price</th>\n",
       "      <th>travel_month</th>\n",
       "      <th>travel_day</th>\n",
       "      <th>departure_hour_range</th>\n",
       "    </tr>\n",
       "  </thead>\n",
       "  <tbody>\n",
       "    <tr>\n",
       "      <th>3</th>\n",
       "      <td>1</td>\n",
       "      <td>1</td>\n",
       "      <td>1</td>\n",
       "      <td>18</td>\n",
       "      <td>981.0</td>\n",
       "      <td>5</td>\n",
       "      <td>1</td>\n",
       "      <td>4</td>\n",
       "    </tr>\n",
       "    <tr>\n",
       "      <th>163</th>\n",
       "      <td>1</td>\n",
       "      <td>1</td>\n",
       "      <td>1</td>\n",
       "      <td>17</td>\n",
       "      <td>970.0</td>\n",
       "      <td>5</td>\n",
       "      <td>1</td>\n",
       "      <td>4</td>\n",
       "    </tr>\n",
       "    <tr>\n",
       "      <th>679</th>\n",
       "      <td>1</td>\n",
       "      <td>1</td>\n",
       "      <td>1</td>\n",
       "      <td>16</td>\n",
       "      <td>972.0</td>\n",
       "      <td>5</td>\n",
       "      <td>1</td>\n",
       "      <td>4</td>\n",
       "    </tr>\n",
       "    <tr>\n",
       "      <th>1193</th>\n",
       "      <td>1</td>\n",
       "      <td>1</td>\n",
       "      <td>1</td>\n",
       "      <td>15</td>\n",
       "      <td>972.0</td>\n",
       "      <td>5</td>\n",
       "      <td>1</td>\n",
       "      <td>4</td>\n",
       "    </tr>\n",
       "    <tr>\n",
       "      <th>1707</th>\n",
       "      <td>1</td>\n",
       "      <td>1</td>\n",
       "      <td>1</td>\n",
       "      <td>14</td>\n",
       "      <td>972.0</td>\n",
       "      <td>5</td>\n",
       "      <td>1</td>\n",
       "      <td>4</td>\n",
       "    </tr>\n",
       "    <tr>\n",
       "      <th>2214</th>\n",
       "      <td>1</td>\n",
       "      <td>1</td>\n",
       "      <td>1</td>\n",
       "      <td>13</td>\n",
       "      <td>972.0</td>\n",
       "      <td>5</td>\n",
       "      <td>1</td>\n",
       "      <td>4</td>\n",
       "    </tr>\n",
       "  </tbody>\n",
       "</table>\n",
       "</div>"
      ],
      "text/plain": [
       "      carrier  source  destination  days_before_travel  price  travel_month  \\\n",
       "3           1       1            1                  18  981.0             5   \n",
       "163         1       1            1                  17  970.0             5   \n",
       "679         1       1            1                  16  972.0             5   \n",
       "1193        1       1            1                  15  972.0             5   \n",
       "1707        1       1            1                  14  972.0             5   \n",
       "2214        1       1            1                  13  972.0             5   \n",
       "\n",
       "      travel_day  departure_hour_range  \n",
       "3              1                     4  \n",
       "163            1                     4  \n",
       "679            1                     4  \n",
       "1193           1                     4  \n",
       "1707           1                     4  \n",
       "2214           1                     4  "
      ]
     },
     "execution_count": 43,
     "metadata": {},
     "output_type": "execute_result"
    }
   ],
   "source": [
    "df_query = df_split.copy()\n",
    "df_query.query('carrier == 1 and destination == 1 and travel_month == 5 and travel_day == 1') "
   ]
  },
  {
   "cell_type": "code",
   "execution_count": 52,
   "metadata": {
    "collapsed": false
   },
   "outputs": [
    {
     "data": {
      "text/html": [
       "<div>\n",
       "<style scoped>\n",
       "    .dataframe tbody tr th:only-of-type {\n",
       "        vertical-align: middle;\n",
       "    }\n",
       "\n",
       "    .dataframe tbody tr th {\n",
       "        vertical-align: top;\n",
       "    }\n",
       "\n",
       "    .dataframe thead th {\n",
       "        text-align: right;\n",
       "    }\n",
       "</style>\n",
       "<table border=\"1\" class=\"dataframe\">\n",
       "  <thead>\n",
       "    <tr style=\"text-align: right;\">\n",
       "      <th></th>\n",
       "      <th>carrier</th>\n",
       "      <th>source</th>\n",
       "      <th>destination</th>\n",
       "      <th>days_before_travel</th>\n",
       "      <th>travel_month</th>\n",
       "      <th>travel_day</th>\n",
       "      <th>departure_hour_range</th>\n",
       "    </tr>\n",
       "  </thead>\n",
       "  <tbody>\n",
       "    <tr>\n",
       "      <th>0</th>\n",
       "      <td>1</td>\n",
       "      <td>1</td>\n",
       "      <td>1</td>\n",
       "      <td>1</td>\n",
       "      <td>5</td>\n",
       "      <td>1</td>\n",
       "      <td>4</td>\n",
       "    </tr>\n",
       "    <tr>\n",
       "      <th>1</th>\n",
       "      <td>1</td>\n",
       "      <td>1</td>\n",
       "      <td>1</td>\n",
       "      <td>2</td>\n",
       "      <td>5</td>\n",
       "      <td>1</td>\n",
       "      <td>4</td>\n",
       "    </tr>\n",
       "    <tr>\n",
       "      <th>2</th>\n",
       "      <td>1</td>\n",
       "      <td>1</td>\n",
       "      <td>1</td>\n",
       "      <td>3</td>\n",
       "      <td>5</td>\n",
       "      <td>1</td>\n",
       "      <td>4</td>\n",
       "    </tr>\n",
       "    <tr>\n",
       "      <th>3</th>\n",
       "      <td>1</td>\n",
       "      <td>1</td>\n",
       "      <td>1</td>\n",
       "      <td>4</td>\n",
       "      <td>5</td>\n",
       "      <td>1</td>\n",
       "      <td>4</td>\n",
       "    </tr>\n",
       "    <tr>\n",
       "      <th>4</th>\n",
       "      <td>1</td>\n",
       "      <td>1</td>\n",
       "      <td>1</td>\n",
       "      <td>5</td>\n",
       "      <td>5</td>\n",
       "      <td>1</td>\n",
       "      <td>4</td>\n",
       "    </tr>\n",
       "    <tr>\n",
       "      <th>5</th>\n",
       "      <td>1</td>\n",
       "      <td>1</td>\n",
       "      <td>1</td>\n",
       "      <td>6</td>\n",
       "      <td>5</td>\n",
       "      <td>1</td>\n",
       "      <td>4</td>\n",
       "    </tr>\n",
       "    <tr>\n",
       "      <th>6</th>\n",
       "      <td>1</td>\n",
       "      <td>1</td>\n",
       "      <td>1</td>\n",
       "      <td>7</td>\n",
       "      <td>5</td>\n",
       "      <td>1</td>\n",
       "      <td>4</td>\n",
       "    </tr>\n",
       "    <tr>\n",
       "      <th>7</th>\n",
       "      <td>1</td>\n",
       "      <td>1</td>\n",
       "      <td>1</td>\n",
       "      <td>8</td>\n",
       "      <td>5</td>\n",
       "      <td>1</td>\n",
       "      <td>4</td>\n",
       "    </tr>\n",
       "    <tr>\n",
       "      <th>8</th>\n",
       "      <td>1</td>\n",
       "      <td>1</td>\n",
       "      <td>1</td>\n",
       "      <td>9</td>\n",
       "      <td>5</td>\n",
       "      <td>1</td>\n",
       "      <td>4</td>\n",
       "    </tr>\n",
       "    <tr>\n",
       "      <th>9</th>\n",
       "      <td>1</td>\n",
       "      <td>1</td>\n",
       "      <td>1</td>\n",
       "      <td>10</td>\n",
       "      <td>5</td>\n",
       "      <td>1</td>\n",
       "      <td>4</td>\n",
       "    </tr>\n",
       "    <tr>\n",
       "      <th>10</th>\n",
       "      <td>1</td>\n",
       "      <td>1</td>\n",
       "      <td>1</td>\n",
       "      <td>11</td>\n",
       "      <td>5</td>\n",
       "      <td>1</td>\n",
       "      <td>4</td>\n",
       "    </tr>\n",
       "    <tr>\n",
       "      <th>11</th>\n",
       "      <td>1</td>\n",
       "      <td>1</td>\n",
       "      <td>1</td>\n",
       "      <td>12</td>\n",
       "      <td>5</td>\n",
       "      <td>1</td>\n",
       "      <td>4</td>\n",
       "    </tr>\n",
       "    <tr>\n",
       "      <th>12</th>\n",
       "      <td>1</td>\n",
       "      <td>1</td>\n",
       "      <td>1</td>\n",
       "      <td>13</td>\n",
       "      <td>5</td>\n",
       "      <td>1</td>\n",
       "      <td>4</td>\n",
       "    </tr>\n",
       "    <tr>\n",
       "      <th>13</th>\n",
       "      <td>1</td>\n",
       "      <td>1</td>\n",
       "      <td>1</td>\n",
       "      <td>14</td>\n",
       "      <td>5</td>\n",
       "      <td>1</td>\n",
       "      <td>4</td>\n",
       "    </tr>\n",
       "    <tr>\n",
       "      <th>14</th>\n",
       "      <td>1</td>\n",
       "      <td>1</td>\n",
       "      <td>1</td>\n",
       "      <td>15</td>\n",
       "      <td>5</td>\n",
       "      <td>1</td>\n",
       "      <td>4</td>\n",
       "    </tr>\n",
       "    <tr>\n",
       "      <th>15</th>\n",
       "      <td>1</td>\n",
       "      <td>1</td>\n",
       "      <td>1</td>\n",
       "      <td>16</td>\n",
       "      <td>5</td>\n",
       "      <td>1</td>\n",
       "      <td>4</td>\n",
       "    </tr>\n",
       "    <tr>\n",
       "      <th>16</th>\n",
       "      <td>1</td>\n",
       "      <td>1</td>\n",
       "      <td>1</td>\n",
       "      <td>17</td>\n",
       "      <td>5</td>\n",
       "      <td>1</td>\n",
       "      <td>4</td>\n",
       "    </tr>\n",
       "    <tr>\n",
       "      <th>17</th>\n",
       "      <td>1</td>\n",
       "      <td>1</td>\n",
       "      <td>1</td>\n",
       "      <td>18</td>\n",
       "      <td>5</td>\n",
       "      <td>1</td>\n",
       "      <td>4</td>\n",
       "    </tr>\n",
       "  </tbody>\n",
       "</table>\n",
       "</div>"
      ],
      "text/plain": [
       "    carrier  source  destination  days_before_travel  travel_month  \\\n",
       "0         1       1            1                   1             5   \n",
       "1         1       1            1                   2             5   \n",
       "2         1       1            1                   3             5   \n",
       "3         1       1            1                   4             5   \n",
       "4         1       1            1                   5             5   \n",
       "5         1       1            1                   6             5   \n",
       "6         1       1            1                   7             5   \n",
       "7         1       1            1                   8             5   \n",
       "8         1       1            1                   9             5   \n",
       "9         1       1            1                  10             5   \n",
       "10        1       1            1                  11             5   \n",
       "11        1       1            1                  12             5   \n",
       "12        1       1            1                  13             5   \n",
       "13        1       1            1                  14             5   \n",
       "14        1       1            1                  15             5   \n",
       "15        1       1            1                  16             5   \n",
       "16        1       1            1                  17             5   \n",
       "17        1       1            1                  18             5   \n",
       "\n",
       "    travel_day  departure_hour_range  \n",
       "0            1                     4  \n",
       "1            1                     4  \n",
       "2            1                     4  \n",
       "3            1                     4  \n",
       "4            1                     4  \n",
       "5            1                     4  \n",
       "6            1                     4  \n",
       "7            1                     4  \n",
       "8            1                     4  \n",
       "9            1                     4  \n",
       "10           1                     4  \n",
       "11           1                     4  \n",
       "12           1                     4  \n",
       "13           1                     4  \n",
       "14           1                     4  \n",
       "15           1                     4  \n",
       "16           1                     4  \n",
       "17           1                     4  "
      ]
     },
     "execution_count": 52,
     "metadata": {},
     "output_type": "execute_result"
    }
   ],
   "source": [
    "predict['carrier'] = [1 for i in range(1,19)]\n",
    "predict['source'] = [1 for i in range(1,19)]\n",
    "predict['destination'] = [1 for i in range(1,19)]\n",
    "predict['days_before_travel'] = [x for x in range(1,19)]\n",
    "predict['travel_month'] = [5 for x in range(1,19)]\n",
    "predict['travel_day'] = [1 for x in range(1,19)]\n",
    "predict['departure_hour_range'] = [4 for x in range(1,19)]\n",
    "predict"
   ]
  },
  {
   "cell_type": "code",
   "execution_count": 53,
   "metadata": {
    "collapsed": false
   },
   "outputs": [
    {
     "data": {
      "text/plain": [
       "array([971.96, 971.96, 971.96, 971.96, 971.96, 971.96, 971.96, 971.96,\n",
       "       971.96, 971.96, 971.96, 971.96, 971.96, 971.96, 971.96, 971.88,\n",
       "       970.69, 976.41])"
      ]
     },
     "execution_count": 53,
     "metadata": {},
     "output_type": "execute_result"
    }
   ],
   "source": [
    "pred = model.predict(predict)\n",
    "pred"
   ]
  },
  {
   "cell_type": "code",
   "execution_count": 51,
   "metadata": {
    "collapsed": false
   },
   "outputs": [
    {
     "data": {
      "text/plain": [
       "array([  0.,   0.,   0.,   0.,   0.,   0.,   0.,   0.,   0.,   0.,   0.,\n",
       "         0.,   0., 972., 972., 972., 970., 981.])"
      ]
     },
     "execution_count": 51,
     "metadata": {},
     "output_type": "execute_result"
    }
   ],
   "source": [
    "actual = np.array(filter_df_SQ['price'])\n",
    "actual = np.pad(actual, (18-actual.size, 0), 'constant')\n",
    "actual"
   ]
  },
  {
   "cell_type": "code",
   "execution_count": 31,
   "metadata": {
    "collapsed": false
   },
   "outputs": [
    {
     "data": {
      "image/png": "[encoded data removed]",
      "text/plain": [
       "<Figure size 1080x432 with 1 Axes>"
      ]
     },
     "metadata": {},
     "output_type": "display_data"
    }
   ],
   "source": [
    "fig, ax = plt.subplots(figsize=(15, 6))\n",
    "ax.scatter(x = range(0, pred.size), y=pred, c = 'green', label = 'Actual', alpha = 0.5, s=250, \n",
    "           linewidth=0, edgecolors='green')\n",
    "ax.scatter(x = range(0, actual.size), y=actual, c = 'red', label = 'Predicted', alpha = 0.5, s=100, \n",
    "           linewidth=0, edgecolors='red')\n",
    "plt.title('Actual and Predicted for Singapore Airlines') \n",
    "plt.xlabel('Days before Travel')\n",
    "plt.ylabel('Price')\n",
    "plt.gca().invert_xaxis()\n",
    "ax.set_facecolor(\"white\")\n",
    "plt.ylim(960, 985)\n",
    "plt.show()"
   ]
  }
 ],
 "metadata": {
  "kernelspec": {
   "display_name": "airfare",
   "language": "python",
   "name": "airfare"
  },
  "language_info": {
   "codemirror_mode": {
    "name": "ipython",
    "version": 3
   },
   "file_extension": ".py",
   "mimetype": "text/x-python",
   "name": "python",
   "nbconvert_exporter": "python",
   "pygments_lexer": "ipython3",
   "version": "3.6.2"
  }
 },
 "nbformat": 4,
 "nbformat_minor": 2
}
